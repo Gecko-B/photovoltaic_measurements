{
 "cells": [
  {
   "cell_type": "code",
   "execution_count": 1,
   "id": "b6803337",
   "metadata": {},
   "outputs": [],
   "source": [
    "# Import line; qcodes documentation can be found at https://microsoft.github.io/Qcodes/\n",
    "from qcodes.instrument_drivers.stanford_research.SR830 import SR830\n",
    "from qcodes.instrument_drivers.Keithley.Keithley_2400 import Keithley2400\n",
    "from qcodes.instrument_drivers.QuantumDesign import DynaCool\n",
    "\n",
    "import numpy as np\n",
    "import qcodes as qc\n",
    "import pandas\n",
    "import matplotlib.pyplot as plt\n",
    "import time\n",
    "\n",
    "## Multidimensional scanning module\n",
    "from qcodes.dataset import (\n",
    "    LinSweep,\n",
    "    Measurement,\n",
    "    dond,\n",
    "    experiments,\n",
    "    initialise_or_create_database_at,\n",
    "    load_by_run_spec,\n",
    "    load_or_create_experiment,\n",
    "    plot_dataset,\n",
    ")\n",
    "\n",
    "## Using interactive widget\n",
    "from qcodes.interactive_widget import experiments_widget\n",
    "import time\n",
    "import os\n",
    "from qcodes.parameters import ElapsedTimeParameter, Parameter\n",
    "\n",
    "# pyvisa documentation at https://pyvisa.readthedocs.io/en/latest/\n",
    "import pyvisa\n"
   ]
  },
  {
   "cell_type": "code",
   "execution_count": 2,
   "id": "a49ee99a",
   "metadata": {},
   "outputs": [
    {
     "data": {
      "text/plain": [
       "('GPIB0::8::INSTR',)"
      ]
     },
     "execution_count": 2,
     "metadata": {},
     "output_type": "execute_result"
    }
   ],
   "source": [
    "# list the instruments we have\n",
    "rm = pyvisa.ResourceManager()\n",
    "rm.list_resources()"
   ]
  },
  {
   "cell_type": "code",
   "execution_count": 3,
   "id": "f02bff32",
   "metadata": {},
   "outputs": [],
   "source": [
    "# Initialize/Choose database\n",
    "initialise_or_create_database_at(\"Thesis_PV.db\")"
   ]
  },
  {
   "cell_type": "code",
   "execution_count": 4,
   "id": "5ec61c30",
   "metadata": {},
   "outputs": [],
   "source": []
  },
  {
   "cell_type": "code",
   "execution_count": 5,
   "id": "63deebb8",
   "metadata": {
    "scrolled": false
   },
   "outputs": [
    {
     "name": "stdout",
     "output_type": "stream",
     "text": [
      "Connected to: Stanford_Research_Systems SR830 (serial:s/n70447, firmware:ver1.07) in 0.12s\n"
     ]
    },
    {
     "name": "stderr",
     "output_type": "stream",
     "text": [
      "c:\\users\\matth\\appdata\\local\\programs\\python\\python38\\lib\\site-packages\\qcodes\\instrument\\instrument_base.py:143: QCoDeSDeprecationWarning: Parameter ch1_databuffer on instrument lia1 does not correctly pass kwargs to its baseclass. A Parameter class must take `**kwargs` and forward them to its baseclass.\n",
      "  warnings.warn(\n",
      "c:\\users\\matth\\appdata\\local\\programs\\python\\python38\\lib\\site-packages\\qcodes\\instrument\\instrument_base.py:143: QCoDeSDeprecationWarning: Parameter ch2_databuffer on instrument lia1 does not correctly pass kwargs to its baseclass. A Parameter class must take `**kwargs` and forward them to its baseclass.\n",
      "  warnings.warn(\n"
     ]
    }
   ],
   "source": [
    "lia1 = SR830(\"lia1\", \"GPIB::8::INSTR\") # SR830 lock-in\n",
    "temp_controller = rm.open_resource(\"GPIB0::1::INSTR\") # Hanson temperature controller series 8000\n",
    "\n",
    "\n",
    "# Sourcemeter code; for gated samples we would use\n",
    "#smu = Keithley2400(\"smu\", \"GPIB::24::INSTR\")\n",
    "#smu.output(1)"
   ]
  },
  {
   "cell_type": "code",
   "execution_count": 6,
   "id": "8ed37805",
   "metadata": {},
   "outputs": [
    {
     "data": {
      "text/plain": [
       "'lia1'"
      ]
     },
     "execution_count": 6,
     "metadata": {},
     "output_type": "execute_result"
    }
   ],
   "source": [
    "# Create Station and add instruments\n",
    "station = qc.Station() # Create station\n",
    "station.add_component(lia1) # add lock-on amplifier\n",
    "#station.add_component(smu)\n"
   ]
  },
  {
   "cell_type": "code",
   "execution_count": 7,
   "id": "1526c2d9",
   "metadata": {},
   "outputs": [],
   "source": [
    "# Create experiment as well as a context manager\n",
    "exp = load_or_create_experiment(\n",
    "    experiment_name = \"Polarization Dependence\",\n",
    "    sample_name= \"Sample 1\"\n",
    ")\n",
    "\n",
    "context_meas = Measurement(exp = exp, station=station, name = \"PV Measurement\")"
   ]
  },
  {
   "cell_type": "code",
   "execution_count": 8,
   "id": "3219217c",
   "metadata": {},
   "outputs": [
    {
     "data": {
      "text/plain": [
       "<qcodes.dataset.measurements.Measurement at 0x2696a1006a0>"
      ]
     },
     "execution_count": 8,
     "metadata": {},
     "output_type": "execute_result"
    }
   ],
   "source": [
    "# add lock-in measured values as well as sensitivity and supplied amplitude\n",
    "context_meas.register_parameter(lia1.X) \n",
    "context_meas.register_parameter(lia1.Y)\n",
    "context_meas.register_parameter(lia1.R)\n",
    "context_meas.register_parameter(lia1.phase)\n",
    "context_meas.register_parameter(lia1.sensitivity)\n",
    "context_meas.register_parameter(lia1.amplitude)\n",
    "\n",
    "# add temperature parameter\n",
    "temp = Parameter('temp', label = 'temp', unit = 'K', get_cmd = lambda: float(temp_controller.read().split()[0]))\n",
    "context_meas.register_parameter(temp)\n",
    "\n",
    "# add time parameter\n",
    "curr_time = Parameter('curr_time', label = 'time', unit = 's', get_cmd = lambda: float(time.time()))\n",
    "context_meas.register_parameter(curr_time)\n",
    "\n",
    "#context_meas.register_parameter(smu.volt)\n",
    "#context_meas.register_parameter(smu.curr)\n",
    "#set_volt = Parameter('set_volt', label = 'set_volt', unit = 'V', get_cmd = lambda: float(smu.volt.get()))\n",
    "#context_meas.register_parameter(set_volt)\n"
   ]
  },
  {
   "cell_type": "code",
   "execution_count": 3,
   "id": "1da2253d",
   "metadata": {},
   "outputs": [],
   "source": [
    "#smu.rangev(.2)\n",
    "#smu.rangev()\n",
    "#smu.volt(5e-6)\n",
    "#smu.volt()"
   ]
  },
  {
   "cell_type": "code",
   "execution_count": 2,
   "id": "9a2dc57e",
   "metadata": {},
   "outputs": [
    {
     "ename": "NameError",
     "evalue": "name 'temp' is not defined",
     "output_type": "error",
     "traceback": [
      "\u001b[1;31m---------------------------------------------------------------------------\u001b[0m",
      "\u001b[1;31mNameError\u001b[0m                                 Traceback (most recent call last)",
      "Cell \u001b[1;32mIn[2], line 1\u001b[0m\n\u001b[1;32m----> 1\u001b[0m \u001b[38;5;28mprint\u001b[39m(\u001b[38;5;124m\"\u001b[39m\u001b[38;5;124mtemperature: \u001b[39m\u001b[38;5;124m\"\u001b[39m \u001b[38;5;241m+\u001b[39m \u001b[38;5;28mstr\u001b[39m(\u001b[43mtemp\u001b[49m()) \u001b[38;5;241m+\u001b[39m \u001b[38;5;124m\"\u001b[39m\u001b[38;5;124m; lock-in amplitude: \u001b[39m\u001b[38;5;124m\"\u001b[39m \u001b[38;5;241m+\u001b[39m \u001b[38;5;28mstr\u001b[39m(lia1\u001b[38;5;241m.\u001b[39mamplitude()) \u001b[38;5;241m+\u001b[39m \u001b[38;5;124m\"\u001b[39m\u001b[38;5;124m.\u001b[39m\u001b[38;5;124m\"\u001b[39m)\n",
      "\u001b[1;31mNameError\u001b[0m: name 'temp' is not defined"
     ]
    }
   ],
   "source": [
    "print(\"temperature: \" + str(temp()) + \"; lock-in amplitude: \" + str(lia1.amplitude()) + \".\")"
   ]
  },
  {
   "cell_type": "code",
   "execution_count": 4,
   "id": "ebb075bf",
   "metadata": {},
   "outputs": [],
   "source": [
    "def measureAll(datasaver, sleep_time = .1, log = True):\n",
    "    \"\"\"\"Measure function for taking data. Takes lock-in, temperature, and time data after sleep_time and stores the data in the\n",
    "    database using the datasaver if log is true.\n",
    "    \n",
    "    args:\n",
    "        datasaver (object): datasaver from qcodes that logs to the database\n",
    "        sleep_time (float): time waited before measurement\n",
    "                    default is 0.1s, \n",
    "        log (Boolean): whether or not to save data to the database\n",
    "             default is True (log data)\n",
    "    \n",
    "    logs: \n",
    "        X, Y, theta, and R components of lock-in signal, lock-in signal amplitude, temperature, lock-in sensitivity,\n",
    "        and current time.\n",
    "    \n",
    "    returns:\n",
    "        X1 (float): X component of signal as measured by lock-in\n",
    "        Y1 (float): Y \"\"\n",
    "        temperature (float): temperature of internal cryostat thermistor\n",
    "    \n",
    "    \"\"\"\n",
    "    time.sleep(sleep_time)\n",
    "    X1, Y1, R1, phase1 = lia1.snap('x', 'y', 'r', 'phase') # add more lock ins here\n",
    "    temperature = temp.get()\n",
    "    sensitivity_lia_1 = lia1.sensitivity()\n",
    "    c_time = time.time()\n",
    "    amplitude = lia1.amplitude()\n",
    "\n",
    "    if log == True:\n",
    "        datasaver.add_result((lia1.X, X1),\n",
    "                             (lia1.Y, Y1),\n",
    "                             (lia1.phase, phase1),\n",
    "                             (lia1.R, R1),\n",
    "                             (lia1.amplitude, amplitude),\n",
    "\n",
    "                             (temp, temperature),\n",
    "                \n",
    "                             (curr_time, c_time),\n",
    "                             (lia1.sensitivity, sensitivity_lia_1))\n",
    "                        \n",
    "    time.sleep(.1)\n",
    "    return [X1, Y1, temperature]\n",
    "    "
   ]
  },
  {
   "cell_type": "code",
   "execution_count": 5,
   "id": "288ad931",
   "metadata": {},
   "outputs": [],
   "source": [
    "def IV_Sweep(start = -5, stop = 1, num_steps = 200):\n",
    "    \"\"\"IV sweep of a contact. Creates an array from 10^start to 10^stop in num_steps evenly spaced (logwise) steps. \n",
    "    Supplies voltage at each of these points and measures and stores the corresponding current, creating an IV sweep for a contact.\n",
    "    \n",
    "    args:\n",
    "        start (float): start set voltage of 10^start (V). Default is start = -5.\n",
    "        end (float): end set voltage of 10^stop (V). Default is stop = 1.\n",
    "        num_steps (int): # of steps \n",
    "    \n",
    "    logs: \n",
    "        smu output voltage, smu output current, current time\n",
    "    \n",
    "    returns:\n",
    "    \n",
    "    \"\"\"\n",
    "    \n",
    "    start = np.log10(start)\n",
    "    stop = np.log10(stop)\n",
    "    print(start, stop)\n",
    "    smu.output(1)\n",
    "    with context_meas.run() as datasaver:\n",
    "        set_volt_arr = list(np.logspace(start, stop, num_steps)) + list(np.logspace(stop, start, num_steps))\n",
    "        smu.compliancei.set(1e-3)\n",
    "        for set_volt in set_volt_arr:\n",
    "            smu.volt(set_volt)\n",
    "            #print(smu.volt())\n",
    "            c_time = time.time()\n",
    "            #print(set_volt)\n",
    "            datasaver.add_result((smu.volt, smu.volt()),\n",
    "                                 (smu.curr, smu.curr()),\n",
    "                                (curr_time, c_time))\n",
    "            time.sleep(.05)\n",
    "            \n",
    "# IV_Sweep(start = 5e-6, stop = 1e-3, num_steps = 100)"
   ]
  },
  {
   "cell_type": "code",
   "execution_count": 114,
   "id": "0a076a7f",
   "metadata": {
    "scrolled": false
   },
   "outputs": [
    {
     "name": "stdout",
     "output_type": "stream",
     "text": [
      "-5.301029995663981 -3.0\n",
      "Starting experimental run with id: 75. \n"
     ]
    }
   ],
   "source": []
  },
  {
   "cell_type": "code",
   "execution_count": 37,
   "id": "73c825d8",
   "metadata": {
    "scrolled": false
   },
   "outputs": [
    {
     "name": "stdout",
     "output_type": "stream",
     "text": [
      "Starting experimental run with id: 146. \n"
     ]
    }
   ],
   "source": [
    "time_rn = time.time()\n",
    "with context_meas.run() as datasaver:\n",
    "    lia1.amplitude(.1)\n",
    "    while (time.time()-time_rn)<180:\n",
    "        \n",
    "        time.sleep(.1)\n",
    "        measureAll(datasaver)"
   ]
  },
  {
   "cell_type": "code",
   "execution_count": null,
   "id": "07381a5b",
   "metadata": {},
   "outputs": [],
   "source": []
  },
  {
   "cell_type": "code",
   "execution_count": null,
   "id": "7313ae68",
   "metadata": {},
   "outputs": [],
   "source": []
  }
 ],
 "metadata": {
  "kernelspec": {
   "display_name": "Python 3 (ipykernel)",
   "language": "python",
   "name": "python3"
  },
  "language_info": {
   "codemirror_mode": {
    "name": "ipython",
    "version": 3
   },
   "file_extension": ".py",
   "mimetype": "text/x-python",
   "name": "python",
   "nbconvert_exporter": "python",
   "pygments_lexer": "ipython3",
   "version": "3.9.13"
  }
 },
 "nbformat": 4,
 "nbformat_minor": 5
}
